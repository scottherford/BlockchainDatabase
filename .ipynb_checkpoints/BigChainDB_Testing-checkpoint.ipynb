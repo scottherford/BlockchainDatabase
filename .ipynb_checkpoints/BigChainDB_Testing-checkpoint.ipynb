{
 "cells": [
  {
   "cell_type": "markdown",
   "metadata": {},
   "source": [
    "# Testing BigChainDB"
   ]
  },
  {
   "cell_type": "code",
   "execution_count": 1,
   "metadata": {
    "collapsed": true
   },
   "outputs": [],
   "source": [
    "# Start with the example on their website"
   ]
  },
  {
   "cell_type": "code",
   "execution_count": 2,
   "metadata": {},
   "outputs": [],
   "source": [
    "# Simple connection test\n",
    "from bigchaindb_driver import BigchainDB\n",
    "tokens = {}\n",
    "tokens['app_id'] = 'b1120cb5'\n",
    "tokens['app_key'] = '93d4e267df29eadff70c239037e9f2c6'\n",
    "bdb = BigchainDB('https://test.bigchaindb.com', headers=tokens)"
   ]
  },
  {
   "cell_type": "code",
   "execution_count": 3,
   "metadata": {},
   "outputs": [
    {
     "data": {
      "text/plain": [
       "<bigchaindb_driver.driver.BigchainDB at 0x7f100a466ef0>"
      ]
     },
     "execution_count": 3,
     "metadata": {},
     "output_type": "execute_result"
    }
   ],
   "source": [
    "bdb"
   ]
  },
  {
   "cell_type": "code",
   "execution_count": 4,
   "metadata": {},
   "outputs": [
    {
     "data": {
      "text/plain": [
       "{'asset': {'data': {'message': ''}},\n",
       " 'id': 'bc9b96d09474616599aa7e5bf7d514c10e0e21b5b9465c09c9828326ed71dbba',\n",
       " 'inputs': [{'fulfillment': 'pGSAIEIitZ4yUDte3x-KkmcRnQSRqhvm9KCrD3kgtTIehcKYgUAaFIJthRFEwuWl9lSrtoDZcHRlFO5bPucPy58tuqjo_t2Fy94ZX1FlKYsU6qe_jB7uIYhjcsaoDzqnv3A_6eoA',\n",
       "   'fulfills': None,\n",
       "   'owners_before': ['5TAc76n67rVbBTGXHubcFS55erF8DPUSsvMzKDT3DoDh']}],\n",
       " 'metadata': None,\n",
       " 'operation': 'CREATE',\n",
       " 'outputs': [{'amount': '1',\n",
       "   'condition': {'details': {'public_key': '5TAc76n67rVbBTGXHubcFS55erF8DPUSsvMzKDT3DoDh',\n",
       "     'type': 'ed25519-sha-256'},\n",
       "    'uri': 'ni:///sha-256;95gLkoV_m0OlGwMSPzK2syCUkR0CYHdFpHazIiMyzU4?fpt=ed25519-sha-256&cost=131072'},\n",
       "   'public_keys': ['5TAc76n67rVbBTGXHubcFS55erF8DPUSsvMzKDT3DoDh']}],\n",
       " 'version': '2.0'}"
      ]
     },
     "execution_count": 4,
     "metadata": {},
     "output_type": "execute_result"
    }
   ],
   "source": [
    "alice = generate_keypair()\n",
    "tx = bdb.transactions.prepare(\n",
    "    operation='CREATE',\n",
    "    signers=alice.public_key,\n",
    "    asset={'data': {'message': ''}})\n",
    "signed_tx = bdb.transactions.fulfill(\n",
    "    tx,\n",
    "    private_keys=alice.private_key)\n",
    "bdb.transactions.send(signed_tx)"
   ]
  },
  {
   "cell_type": "code",
   "execution_count": null,
   "metadata": {
    "collapsed": true
   },
   "outputs": [],
   "source": []
  }
 ],
 "metadata": {
  "kernelspec": {
   "display_name": "Python 3",
   "language": "python",
   "name": "python3"
  },
  "language_info": {
   "codemirror_mode": {
    "name": "ipython",
    "version": 3
   },
   "file_extension": ".py",
   "mimetype": "text/x-python",
   "name": "python",
   "nbconvert_exporter": "python",
   "pygments_lexer": "ipython3",
   "version": "3.6.4"
  }
 },
 "nbformat": 4,
 "nbformat_minor": 2
}
