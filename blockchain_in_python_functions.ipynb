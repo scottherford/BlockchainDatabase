{
 "cells": [
  {
   "cell_type": "markdown",
   "metadata": {},
   "source": [
    "# Blockchain Explained in 7 Python Functions\n",
    "https://www.kdnuggets.com/2018/04/blockchain-explained-7-python-functions.html\n",
    "\n",
    "This notebook will go over the kdnuggest post in an attempt to better understand blockchain. It is nearly a verbatium copy and paste of the link above (with some small smattering of my own thoughts)."
   ]
  },
  {
   "cell_type": "markdown",
   "metadata": {},
   "source": [
    "# Hash Function\n",
    "At the heart of the blockchain is the hashing function. Without encryption, the blockchain will be easily manipulated and transactions will be able to be fraudulently inserted.\n",
    "\n",
    "So it seems that blockchain is all about transactions."
   ]
  },
  {
   "cell_type": "code",
   "execution_count": 15,
   "metadata": {},
   "outputs": [],
   "source": [
    "import json\n",
    "import hashlib\n",
    "\n",
    "def hash_function(k):\n",
    "    \"\"\"Hashes our transaction\"\"\"\n",
    "    if type(k) is not str:\n",
    "        k = json.dumps(k, sort_keys=True)\n",
    "    \n",
    "    return hashlib.sha256(k.encode('utf-8')).hexdigest()\n",
    "\n",
    "# I tried running this with a simple stirng \"test\" and it failed."
   ]
  },
  {
   "cell_type": "markdown",
   "metadata": {},
   "source": [
    "# Update the state of the blockchain\n",
    "The state of the blockchain is the record of who owns what. It should be noted that overdrafts cannot exist. This means that there must also be a function that checks for the validity of the transaction before allowing the transaction to occur."
   ]
  },
  {
   "cell_type": "code",
   "execution_count": 9,
   "metadata": {},
   "outputs": [],
   "source": [
    "def update_state(transaction, state):\n",
    "    state = state.copy()\n",
    "    \n",
    "    for key in transaction:\n",
    "        if key in state.keys():\n",
    "            state[key] += transaction[key]\n",
    "        else:\n",
    "            state[key] = transaction[key]\n",
    "    \n",
    "    return state\n",
    "\n",
    "\n",
    "def valid_transaction(transaction, state):\n",
    "    \"\"\"A valid transaction must sum to 0\"\"\"\n",
    "    \n",
    "    if sum(transaction.values()) is not 0:\n",
    "        return False\n",
    "    \n",
    "    for key in transaction.keys():\n",
    "        if key in state.keys():\n",
    "            account_balance = state[key]\n",
    "        else:\n",
    "            account_balance = 0\n",
    "        \n",
    "        if account_balance + transaction[key] < 0:\n",
    "            return False\n",
    "    \n",
    "    return True\n"
   ]
  },
  {
   "cell_type": "markdown",
   "metadata": {},
   "source": [
    "# Make the block\n",
    "Next we make the block. In general, information from the previous block is read, and used to link it to the new block. This too is central to the idea of blockchain. Seemingly valid transactions can be attempted to fradulently be inserted into the blockchain, but decrypting all the previous blocks is computationally (nearly) impossible. This preserves the integrity of the blockchain."
   ]
  },
  {
   "cell_type": "code",
   "execution_count": 10,
   "metadata": {},
   "outputs": [],
   "source": [
    "def make_block(transactions, chain):\n",
    "    \"\"\"Make a block to go into the chain.\"\"\"\n",
    "    parent_hash = chain[-1]['hash']\n",
    "    block_number = chain[-1]['contents']['block_number'] + 1\n",
    "    \n",
    "    block_contents = {\n",
    "        'block_number': block_number,\n",
    "        'parent_hash': parent_hash,\n",
    "        'transaction_count': block_number + 1,\n",
    "        'transaction': transactions\n",
    "    }\n",
    "    \n",
    "    return {'hash': hash_function(block_contents), 'contents': block_contents}\n",
    "\n",
    "def check_block_hash(block):\n",
    "    expected_hash = hash_function(block['contents'])\n",
    "    \n",
    "    if block['hash'] is not expected_hash:\n",
    "        raise\n",
    "    return"
   ]
  },
  {
   "cell_type": "markdown",
   "metadata": {},
   "source": [
    "# Updating the blockchain"
   ]
  },
  {
   "cell_type": "code",
   "execution_count": 11,
   "metadata": {},
   "outputs": [],
   "source": [
    "def check_block_validity(block, parent, state):\n",
    "    parent_number = parent['contents']['block_number']\n",
    "    parent_hash = parent['hash']\n",
    "    block_number = block['contents']['block_number']\n",
    "    \n",
    "    for transaction in block['contents']['transaction']:\n",
    "        if valid_transaction(transaction, state):\n",
    "            state = update_state(transaction, state)\n",
    "        else:\n",
    "            raise\n",
    "            \n",
    "    check_block_hash(block)\n",
    "    \n",
    "    if block_number is not parent_number + 1:\n",
    "        raise\n",
    "    \n",
    "    if block['contents']['parent_hash'] is not parent_hash:\n",
    "        raise\n",
    "        \n",
    "    return state        "
   ]
  },
  {
   "cell_type": "markdown",
   "metadata": {},
   "source": [
    "# Verify the chain"
   ]
  },
  {
   "cell_type": "code",
   "execution_count": 12,
   "metadata": {},
   "outputs": [],
   "source": [
    "def check_chain(chain):\n",
    "    \"\"\"Check to see that the chain is valid.\"\"\"\n",
    "    if type(chain) is str:\n",
    "        try:\n",
    "            chain = json.loads(chain)\n",
    "            assert (type(chain) == list)\n",
    "        except ValueError:\n",
    "            #string passed was not JSON\n",
    "            return False\n",
    "    elif type(chain) is not list:\n",
    "        return False\n",
    "    \n",
    "    state = {}\n",
    "    \n",
    "    for transaction in chain[0]['contents']['transaction']:\n",
    "        state = update_state(transaction, state)\n",
    "    \n",
    "    check_block_hash(chain[0])\n",
    "    parent = chain[0]\n",
    "    \n",
    "    for block in chain[1:]:\n",
    "        state = check_block_validity(block, parent, state)\n",
    "        parent = block\n",
    "        \n",
    "    return state"
   ]
  },
  {
   "cell_type": "markdown",
   "metadata": {},
   "source": [
    "# Transaction Function -- Pulling everything together"
   ]
  },
  {
   "cell_type": "code",
   "execution_count": 13,
   "metadata": {},
   "outputs": [],
   "source": [
    "def add_transaction_to_chain(transaction, state, chain):\n",
    "    if valid_transaction(transaction, state):\n",
    "        state = update_state(transaction, state)\n",
    "    else:\n",
    "        raise Exception('Invalid Transaction.')\n",
    "        \n",
    "    my_block = make_block(state, chain)\n",
    "    chain.append(my_block)\n",
    "    \n",
    "    for transaction in chain:\n",
    "        check_chain(transaction)\n",
    "        \n",
    "    return state, chain"
   ]
  },
  {
   "cell_type": "markdown",
   "metadata": {},
   "source": [
    "# Cool now what?\n",
    "The functions have been made, so how do we do anything with it? First, we need to make a Gensis block. This is the inception of a new coin (or whatever). For the purposes of this example, I (and I am plagerizing) I will start of with 10 coins for Jasper"
   ]
  },
  {
   "cell_type": "code",
   "execution_count": 16,
   "metadata": {},
   "outputs": [],
   "source": [
    "gensis_block = {\n",
    "    'hash': hash_function({\n",
    "        'block_number': 0,\n",
    "        'parent_hash': None,\n",
    "        'transaction_count': 1,\n",
    "        'transaction': [{'Jasper':10}]\n",
    "    }),\n",
    "    'contents': {\n",
    "        'block_number': 0,\n",
    "        'parent_hash': None,\n",
    "        'transaction_count': 1,\n",
    "        'transaction': [{'Jasper': 10}]\n",
    "    }\n",
    "}\n",
    "\n",
    "block_chain = [gensis_block]\n",
    "chain_state = {'Jasper': 10}"
   ]
  },
  {
   "cell_type": "markdown",
   "metadata": {},
   "source": [
    "# Lets make a transaction!\n",
    "Jasper will give Kyle 2 coins"
   ]
  },
  {
   "cell_type": "code",
   "execution_count": 17,
   "metadata": {},
   "outputs": [],
   "source": [
    "chain_state, block_chain = add_transaction_to_chain(transaction={\"Jasper\": -2, 'Kyle':2}, state=chain_state, chain=block_chain)"
   ]
  },
  {
   "cell_type": "code",
   "execution_count": 22,
   "metadata": {},
   "outputs": [
    {
     "name": "stdout",
     "output_type": "stream",
     "text": [
      "{'Jasper': 8, 'Kyle': 2}\n"
     ]
    },
    {
     "data": {
      "text/plain": [
       "[{'contents': {'block_number': 0,\n",
       "   'parent_hash': None,\n",
       "   'transaction': [{'Jasper': 10}],\n",
       "   'transaction_count': 1},\n",
       "  'hash': 'cab6513a8f1144306c3576ad1f159a40ed127531011c73332f3d93b2785b4293'},\n",
       " {'contents': {'block_number': 1,\n",
       "   'parent_hash': 'cab6513a8f1144306c3576ad1f159a40ed127531011c73332f3d93b2785b4293',\n",
       "   'transaction': {'Jasper': 8, 'Kyle': 2},\n",
       "   'transaction_count': 2},\n",
       "  'hash': '07b2354965c86e1123cc01a9ba120e5be9eea437fd96a5af84d123a54a057c08'}]"
      ]
     },
     "execution_count": 22,
     "metadata": {},
     "output_type": "execute_result"
    }
   ],
   "source": [
    "print(chain_state)\n",
    "block_chain"
   ]
  },
  {
   "cell_type": "code",
   "execution_count": null,
   "metadata": {},
   "outputs": [],
   "source": []
  }
 ],
 "metadata": {
  "kernelspec": {
   "display_name": "Python 3",
   "language": "python",
   "name": "python3"
  },
  "language_info": {
   "codemirror_mode": {
    "name": "ipython",
    "version": 3
   },
   "file_extension": ".py",
   "mimetype": "text/x-python",
   "name": "python",
   "nbconvert_exporter": "python",
   "pygments_lexer": "ipython3",
   "version": "3.6.4"
  }
 },
 "nbformat": 4,
 "nbformat_minor": 2
}
